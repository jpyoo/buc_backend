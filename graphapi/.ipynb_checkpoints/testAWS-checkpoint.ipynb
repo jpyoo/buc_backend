{
 "cells": [
  {
   "cell_type": "code",
   "execution_count": 2,
   "id": "c263bf95",
   "metadata": {},
   "outputs": [],
   "source": [
    "import decimal\n",
    "import json\n",
    "import logging\n",
    "import os\n",
    "import pprint\n",
    "import time\n",
    "import boto3\n",
    "from botocore.exceptions import ClientError\n",
    "from boto3.dynamodb.conditions import Key, Attr\n",
    "import psycopg2\n",
    "\n",
    "logger = logging.getLogger(__name__)\n",
    "\n",
    "MAX_GET_SIZE = 100  # Amazon DynamoDB rejects a get batch larger than 100 items.\n",
    "\n",
    "aws_acct = 'zirl2v2iw5h7tnbs3wznskuvvm-bulkupcoac'\n",
    "USER_TABLE_NAME = 'User-' + aws_acct\n",
    "EXERCISE_TABLE_NAME = \"Exercise-\" + aws_acct\n",
    "PROTEIN_TABLE_NAME = \"Protein-\" + aws_acct\n",
    "SLEEP_TABLE_NAME = \"Sleep-\" + aws_acct\n",
    "\n",
    "# Creating the DynamoDB Client\n",
    "dynamodb_client = boto3.client('dynamodb', region_name=\"us-west-1\")\n",
    "\n",
    "# Creating the DynamoDB Table Resource\n",
    "dynamodb = boto3.resource('dynamodb', region_name=\"us-west-1\")\n",
    "\n",
    "user_table = dynamodb.Table(USER_TABLE_NAME)\n",
    "exercise_table = dynamodb.Table(EXERCISE_TABLE_NAME)\n",
    "protein_table = dynamodb.Table(PROTEIN_TABLE_NAME)\n",
    "sleep_table = dynamodb.Table(SLEEP_TABLE_NAME)"
   ]
  },
  {
   "cell_type": "code",
   "execution_count": 3,
   "id": "b24438a0",
   "metadata": {},
   "outputs": [],
   "source": [
    "# # Filtering items in a table by user ID\n",
    "# response = exercise_table.scan(\n",
    "#     FilterExpression=Attr('userID').eq('user5')\n",
    "# )\n",
    "# items = response['Items']\n",
    "# print(items)"
   ]
  },
  {
   "cell_type": "markdown",
   "id": "7e75b291",
   "metadata": {},
   "source": [
    "Getting All items from Users Table into Postgres DB"
   ]
  },
  {
   "cell_type": "code",
   "execution_count": 4,
   "id": "a28a801a",
   "metadata": {},
   "outputs": [
    {
     "name": "stdout",
     "output_type": "stream",
     "text": [
      "[{'id': 'user4', 'BMI': Decimal('19')}, {'id': 'user5', 'BMI': Decimal('24')}, {'id': 'user2', 'BMI': Decimal('20')}, {'id': 'user', 'BMI': Decimal('21')}, {'id': 'user6', 'BMI': Decimal('18.5')}, {'id': 'user3', 'BMI': Decimal('21.5')}]\n"
     ]
    }
   ],
   "source": [
    "# Get all items in a table\n",
    "response = user_table.scan()\n",
    "items = response['Items']\n",
    "print(items)"
   ]
  },
  {
   "cell_type": "code",
   "execution_count": null,
   "id": "79facc9e",
   "metadata": {},
   "outputs": [],
   "source": [
    "attribute_names = set()  # Using a set to ensure uniqueness\n",
    "\n",
    "for item in items:\n",
    "    # Extract keys (attribute names) from the item\n",
    "    for key in item.keys():\n",
    "        attribute_names.add(key)\n",
    "\n",
    "# Print the attribute names\n",
    "print(\"Attribute Names:\")\n",
    "for attribute_name in attribute_names:\n",
    "    print(attribute_name)\n",
    "\n",
    "\n",
    "# Connect to PostgreSQL\n",
    "conn = psycopg2.connect(\n",
    "    dbname=\"bulkupcoach\",\n",
    "    user=\"bulkupcoach\",\n",
    "    password=\"password\",\n",
    "    host=\"localhost\",\n",
    "    port = '5432',\n",
    ")"
   ]
  },
  {
   "cell_type": "code",
   "execution_count": 40,
   "id": "1193a63f",
   "metadata": {},
   "outputs": [],
   "source": [
    "conn.commit()"
   ]
  },
  {
   "cell_type": "code",
   "execution_count": 38,
   "id": "6f523be7",
   "metadata": {},
   "outputs": [],
   "source": [
    "# Create a cursor\n",
    "cur = conn.cursor()"
   ]
  },
  {
   "cell_type": "code",
   "execution_count": 39,
   "id": "b3fbd4b6",
   "metadata": {
    "scrolled": true
   },
   "outputs": [
    {
     "name": "stdout",
     "output_type": "stream",
     "text": [
      "user4 {'N': '19'} <class 'dict'>\n",
      "user5 {'N': '24'} <class 'dict'>\n",
      "user2 {'N': '20'} <class 'dict'>\n",
      "user {'N': '21'} <class 'dict'>\n",
      "user6 {'N': '18.5'} <class 'dict'>\n",
      "user3 {'N': '21.5'} <class 'dict'>\n"
     ]
    }
   ],
   "source": [
    "# Fetch data from DynamoDB and insert into PostgreSQL tables\n",
    "for table_name in [USER_TABLE_NAME]:\n",
    "    response = dynamodb_client.scan(TableName=table_name)\n",
    "    items = response['Items']\n",
    "    for item in items:\n",
    "        user_id = item.get('id', '')  # Assuming 'id' is the primary key in DynamoDB\n",
    "        bmi = item.get('BMI', '')  # Assuming 'BMI' is an attribute in DynamoDB\n",
    "        print(user_id['S'], bmi, type(bmi))\n",
    "        # Insert item into PostgreSQL table\n",
    "        # Assuming the structure of DynamoDB items and PostgreSQL tables are compatible\n",
    "        cur.execute(\n",
    "            f\"INSERT INTO graphapi_user (id, bmi) VALUES (%s, %s)\",\n",
    "            (user_id['S'], float(bmi['N']))\n",
    "        )\n",
    "        conn.commit()"
   ]
  },
  {
   "cell_type": "code",
   "execution_count": 42,
   "id": "86b937b9",
   "metadata": {},
   "outputs": [
    {
     "name": "stdout",
     "output_type": "stream",
     "text": [
      "[{'id': 'exercise2', 'userID': 'user1'}, {'__typename': 'Exercise', '_lastChangedAt': Decimal('1707534246055'), '_version': Decimal('1'), 'userID': 'user5', 'updatedAt': '2024-02-10T03:04:06.053Z', 'createdAt': '2024-02-10T03:04:06.053Z', 'id': 'Exercise1'}, {'__typename': 'Exercise', '_lastChangedAt': Decimal('1707534251012'), '_version': Decimal('1'), 'userID': 'user5', 'updatedAt': '2024-02-10T03:04:10.985Z', 'createdAt': '2024-02-10T03:04:10.985Z', 'id': 'Exercise2'}, {'id': 'exercise1', 'userID': 'user1'}]\n"
     ]
    }
   ],
   "source": [
    "e_response = exercise_table.scan()\n",
    "e_items = e_response['Items']\n",
    "print(e_items)"
   ]
  },
  {
   "cell_type": "code",
   "execution_count": 45,
   "id": "722791e8",
   "metadata": {},
   "outputs": [],
   "source": [
    "from datetime import datetime"
   ]
  },
  {
   "cell_type": "code",
   "execution_count": null,
   "id": "9bc24ebf",
   "metadata": {},
   "outputs": [],
   "source": [
    "for item in e_items:\n",
    "    id = item.get('id', '')  # Assuming 'id' is the primary key in DynamoDB\n",
    "    bmi = item.get('BMI', '')  # Assuming 'BMI' is an attribute in DynamoDB\n",
    "    print(user_id['S'], bmi, type(bmi))\n",
    "    # Insert item into PostgreSQL table\n",
    "    # Assuming the structure of DynamoDB items and PostgreSQL tables are compatible\n",
    "    cur.execute(\n",
    "        f\"INSERT INTO graphapi_user (id, bmi) VALUES (%s, %s)\",\n",
    "        (user_id['S'], float(bmi['N']))\n",
    "    )\n",
    "    conn.commit()"
   ]
  },
  {
   "cell_type": "code",
   "execution_count": null,
   "id": "d83ca041",
   "metadata": {},
   "outputs": [],
   "source": []
  },
  {
   "cell_type": "code",
   "execution_count": null,
   "id": "9365a9e7",
   "metadata": {},
   "outputs": [],
   "source": []
  },
  {
   "cell_type": "markdown",
   "id": "15d65236",
   "metadata": {},
   "source": [
    "Putting items to AWS dynamodb database"
   ]
  },
  {
   "cell_type": "code",
   "execution_count": 52,
   "id": "1853bd98",
   "metadata": {
    "collapsed": true
   },
   "outputs": [
    {
     "data": {
      "text/plain": [
       "{'ResponseMetadata': {'RequestId': 'GS4K41V8TRRD6JF65VMH70LGDJVV4KQNSO5AEMVJF66Q9ASUAAJG',\n",
       "  'HTTPStatusCode': 200,\n",
       "  'HTTPHeaders': {'server': 'Server',\n",
       "   'date': 'Fri, 23 Feb 2024 05:26:04 GMT',\n",
       "   'content-type': 'application/x-amz-json-1.0',\n",
       "   'content-length': '2',\n",
       "   'connection': 'keep-alive',\n",
       "   'x-amzn-requestid': 'GS4K41V8TRRD6JF65VMH70LGDJVV4KQNSO5AEMVJF66Q9ASUAAJG',\n",
       "   'x-amz-crc32': '2745614147'},\n",
       "  'RetryAttempts': 0}}"
      ]
     },
     "execution_count": 52,
     "metadata": {},
     "output_type": "execute_result"
    }
   ],
   "source": [
    "exercise_table.put_item(\n",
    "   Item={\n",
    "        'id': 'ex4',\n",
    "        'name': 'latpulldown',\n",
    "        'weight_lb': 25,\n",
    "        'reps': 20,\n",
    "        'completedAt': datetime.now().strftime(\"%m/%d/%Y, %H:%M:%S\"),\n",
    "        'target': 'back',\n",
    "        'userID': 'user4',\n",
    "    }\n",
    ")"
   ]
  },
  {
   "cell_type": "code",
   "execution_count": null,
   "id": "27081572",
   "metadata": {},
   "outputs": [],
   "source": []
  }
 ],
 "metadata": {
  "kernelspec": {
   "display_name": "bulkupcoach",
   "language": "python",
   "name": "bulkupcoach"
  },
  "language_info": {
   "codemirror_mode": {
    "name": "ipython",
    "version": 3
   },
   "file_extension": ".py",
   "mimetype": "text/x-python",
   "name": "python",
   "nbconvert_exporter": "python",
   "pygments_lexer": "ipython3",
   "version": "3.10.9"
  }
 },
 "nbformat": 4,
 "nbformat_minor": 5
}
