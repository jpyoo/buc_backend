{
 "cells": [
  {
   "cell_type": "code",
   "execution_count": 1,
   "id": "c263bf95",
   "metadata": {},
   "outputs": [],
   "source": [
    "import decimal\n",
    "import json\n",
    "import logging\n",
    "import os\n",
    "import pprint\n",
    "import time\n",
    "import boto3\n",
    "from botocore.exceptions import ClientError\n",
    "from boto3.dynamodb.conditions import Key, Attr\n",
    "import psycopg2\n",
    "from datetime import datetime, timedelta\n",
    "from numpy import random\n",
    "\n",
    "logger = logging.getLogger(__name__)\n",
    "\n",
    "MAX_GET_SIZE = 100  # Amazon DynamoDB rejects a get batch larger than 100 items.\n",
    "\n",
    "aws_acct = 'zirl2v2iw5h7tnbs3wznskuvvm-bulkupcoac'\n",
    "USER_TABLE_NAME = 'User-' + aws_acct\n",
    "EXERCISE_TABLE_NAME = \"Exercise-\" + aws_acct\n",
    "PROTEIN_TABLE_NAME = \"Protein-\" + aws_acct\n",
    "SLEEP_TABLE_NAME = \"Sleep-\" + aws_acct\n",
    "\n",
    "# Creating the DynamoDB Client\n",
    "dynamodb_client = boto3.client('dynamodb', region_name=\"us-west-1\")\n",
    "\n",
    "# Creating the DynamoDB Table Resource\n",
    "dynamodb = boto3.resource('dynamodb', region_name=\"us-west-1\")\n",
    "\n",
    "user_table = dynamodb.Table(USER_TABLE_NAME)\n",
    "exercise_table = dynamodb.Table(EXERCISE_TABLE_NAME)\n",
    "protein_table = dynamodb.Table(PROTEIN_TABLE_NAME)\n",
    "sleep_table = dynamodb.Table(SLEEP_TABLE_NAME)"
   ]
  },
  {
   "cell_type": "code",
   "execution_count": 3,
   "id": "fb04a84f",
   "metadata": {},
   "outputs": [],
   "source": [
    "# Connect to PostgreSQL\n",
    "conn = psycopg2.connect(\n",
    "    dbname=\"bulkupcoach\",\n",
    "    user=\"bulkupcoach\",\n",
    "    password=\"password\",\n",
    "    host=\"localhost\",\n",
    "    port = '5432',\n",
    ")\n",
    "\n",
    "# Create a cursor\n",
    "cur = conn.cursor()"
   ]
  },
  {
   "cell_type": "code",
   "execution_count": 3,
   "id": "b24438a0",
   "metadata": {},
   "outputs": [],
   "source": [
    "def get_items_by_user(table, user_id):\n",
    "    \"\"\"Get items in a table by user ID.\n",
    "\n",
    "    :param table: The table to query.\n",
    "    :param user_id: The user ID to search for.\n",
    "    :return: The items found.\n",
    "    \"\"\"\n",
    "    try:\n",
    "        response = table.query(\n",
    "            KeyConditionExpression=Key('userID').eq(user_id)\n",
    "        )\n",
    "    except ClientError as e:\n",
    "        logger.exception(\"Couldn't get items by user ID.\")\n",
    "        raise\n",
    "    return response['Items']"
   ]
  },
  {
   "cell_type": "markdown",
   "id": "7e75b291",
   "metadata": {},
   "source": [
    "Getting All items from Users Table into Postgres DB"
   ]
  },
  {
   "cell_type": "code",
   "execution_count": 4,
   "id": "55efd92c",
   "metadata": {},
   "outputs": [
    {
     "name": "stdout",
     "output_type": "stream",
     "text": [
      "[{'id': 'user4', 'BMI': Decimal('19')}, {'id': 'user5', 'BMI': Decimal('24')}, {'id': 'user2', 'BMI': Decimal('20')}, {'id': 'user', 'BMI': Decimal('21')}, {'id': 'user6', 'BMI': Decimal('18.5')}, {'id': 'user3', 'BMI': Decimal('21.5')}]\n"
     ]
    }
   ],
   "source": [
    "def print_all_items(table):\n",
    "    \"\"\"Print all items in a table.\n",
    "\n",
    "    :param table: The table to print.\n",
    "    \"\"\"\n",
    "    try:\n",
    "        response = table.scan()\n",
    "        items = response['Items']\n",
    "        for item in items:\n",
    "            print(item)\n",
    "    except ClientError as e:\n",
    "        logger.exception(\"Couldn't get items by user ID.\")\n",
    "        raise"
   ]
  },
  {
   "cell_type": "code",
   "execution_count": null,
   "id": "910b9fa1",
   "metadata": {},
   "outputs": [],
   "source": [
    "def print_attribute_names(items):\n",
    "    attribute_names = set()  # Using a set to ensure uniqueness\n",
    "\n",
    "    for item in items:\n",
    "        # Extract keys (attribute names) from the item\n",
    "        for key in item.keys():\n",
    "            attribute_names.add(key)\n",
    "\n",
    "    # Print the attribute names\n",
    "    print(\"Attribute Names:\")\n",
    "    for attribute_name in attribute_names:\n",
    "        print(attribute_name)"
   ]
  },
  {
   "cell_type": "code",
   "execution_count": 39,
   "id": "b3fbd4b6",
   "metadata": {
    "scrolled": true
   },
   "outputs": [
    {
     "name": "stdout",
     "output_type": "stream",
     "text": [
      "user4 {'N': '19'} <class 'dict'>\n",
      "user5 {'N': '24'} <class 'dict'>\n",
      "user2 {'N': '20'} <class 'dict'>\n",
      "user {'N': '21'} <class 'dict'>\n",
      "user6 {'N': '18.5'} <class 'dict'>\n",
      "user3 {'N': '21.5'} <class 'dict'>\n"
     ]
    }
   ],
   "source": [
    "# Fetch data from DynamoDB and insert into PostgreSQL tables\n",
    "def import_user_from_aws():\n",
    "    response = user_table.scan()\n",
    "    items = response['Items']\n",
    "    for item in items:\n",
    "        user_id = item.get('id', '')  # Assuming 'id' is the primary key in DynamoDB\n",
    "        bmi = item.get('BMI', '')  # Assuming 'BMI' is an attribute in DynamoDB\n",
    "        # Insert item into PostgreSQL table\n",
    "        # Assuming the structure of DynamoDB items and PostgreSQL tables are compatible\n",
    "        cur.execute(\n",
    "            f\"INSERT INTO graphapi_user (id, bmi) VALUES (%s, %s)\",\n",
    "            (user_id['S'], float(bmi['N']))\n",
    "        )\n",
    "        conn.commit()"
   ]
  },
  {
   "cell_type": "code",
   "execution_count": 60,
   "id": "0bfdb197",
   "metadata": {},
   "outputs": [
    {
     "name": "stdout",
     "output_type": "stream",
     "text": [
      "{'completedAt': '02/22/2024, 21:26:04', 'reps': Decimal('20'), 'userID': 'user4', 'target': 'back', 'weight_lb': Decimal('25'), 'id': 'ex4', 'name': 'latpulldown'}\n",
      "{'completedAt': '02/22/2024, 21:25:43', 'reps': Decimal('10'), 'userID': 'user1', 'target': 'back', 'weight_lb': Decimal('35'), 'id': 'ex1', 'name': 'latpulldown'}\n",
      "{'completedAt': '02/22/2024, 21:25:36', 'reps': Decimal('15'), 'userID': 'user1', 'target': 'back', 'weight_lb': Decimal('35'), 'id': 'ex3', 'name': 'latpulldown'}\n",
      "{'completedAt': '02/22/2024, 21:25:50', 'reps': Decimal('10'), 'userID': 'user1', 'target': 'back', 'weight_lb': Decimal('25'), 'id': 'ex2', 'name': 'latpulldown'}\n"
     ]
    }
   ],
   "source": [
    "def import_exercise_from_aws():\n",
    "    e_response = exercise_table.scan()\n",
    "    e_items = e_response['Items']\n",
    "    for item in e_items:\n",
    "        e_id = item.get('id', '')\n",
    "        completedAt = item.get('completedAt', '')\n",
    "        reps = item.get('reps', '')\n",
    "        userID = item.get('userID', '')\n",
    "        target = item.get('target', '')\n",
    "        weight_lb = item.get('weight_lb', '')\n",
    "        name = item.get('name', '')\n",
    "        print(item)\n",
    "        # Insert item into PostgreSQL table\n",
    "        # Assuming the structure of DynamoDB items and PostgreSQL tables are compatible\n",
    "        cur.execute(\n",
    "            f\"INSERT INTO graphapi_exercise (id, name, completed_at, target, user_id, weight_lb, reps) VALUES (%s, %s, %s, %s, %s, %s, %s)\",\n",
    "            (e_id, name, completedAt, target, userID, weight_lb, reps)\n",
    "        )\n",
    "        conn.commit()"
   ]
  },
  {
   "cell_type": "markdown",
   "id": "4c58f8a2",
   "metadata": {},
   "source": [
    "Workgin on Protein table"
   ]
  },
  {
   "cell_type": "code",
   "execution_count": 69,
   "id": "ee84cd9f",
   "metadata": {},
   "outputs": [
    {
     "name": "stdout",
     "output_type": "stream",
     "text": [
      "[{'completedAt': '02/22/2024, 21:37:35', 'id': 'pr5', 'name': 'shake', 'grams': Decimal('10'), 'userID': 'user4'}, {'completedAt': '02/22/2024, 21:37:17', 'id': 'pr4', 'name': 'burger', 'grams': Decimal('25'), 'userID': 'user4'}]\n"
     ]
    }
   ],
   "source": [
    "p_response = protein_table.scan()\n",
    "p_items = p_response['Items']\n",
    "print(p_items)"
   ]
  },
  {
   "cell_type": "code",
   "execution_count": 67,
   "id": "188a4ad3",
   "metadata": {},
   "outputs": [
    {
     "name": "stdout",
     "output_type": "stream",
     "text": [
      "{'completedAt': '02/22/2024, 21:37:35', 'id': 'pr5', 'name': 'shake', 'grams': Decimal('10'), 'userID': 'user4'}\n",
      "{'completedAt': '02/22/2024, 21:37:17', 'id': 'pr4', 'name': 'burger', 'grams': Decimal('25'), 'userID': 'user4'}\n",
      "{'id': 'first'}\n"
     ]
    },
    {
     "ename": "InvalidDatetimeFormat",
     "evalue": "invalid input syntax for type timestamp with time zone: \"\"\nLINE 1: ...ompleted_at, user_id, grams) VALUES ('first', '', '', '', ''...\n                                                             ^\n",
     "output_type": "error",
     "traceback": [
      "\u001b[0;31m---------------------------------------------------------------------------\u001b[0m",
      "\u001b[0;31mInvalidDatetimeFormat\u001b[0m                     Traceback (most recent call last)",
      "Cell \u001b[0;32mIn[67], line 10\u001b[0m\n\u001b[1;32m      7\u001b[0m \u001b[38;5;28mprint\u001b[39m(item)\n\u001b[1;32m      8\u001b[0m \u001b[38;5;66;03m# Insert item into PostgreSQL table\u001b[39;00m\n\u001b[1;32m      9\u001b[0m \u001b[38;5;66;03m# Assuming the structure of DynamoDB items and PostgreSQL tables are compatible\u001b[39;00m\n\u001b[0;32m---> 10\u001b[0m \u001b[43mcur\u001b[49m\u001b[38;5;241;43m.\u001b[39;49m\u001b[43mexecute\u001b[49m\u001b[43m(\u001b[49m\n\u001b[1;32m     11\u001b[0m \u001b[43m    \u001b[49m\u001b[38;5;124;43mf\u001b[39;49m\u001b[38;5;124;43m\"\u001b[39;49m\u001b[38;5;124;43mINSERT INTO graphapi_protein (id, name, completed_at, user_id, grams) VALUES (%s, %s, %s, %s, %s)\u001b[39;49m\u001b[38;5;124;43m\"\u001b[39;49m\u001b[43m,\u001b[49m\n\u001b[1;32m     12\u001b[0m \u001b[43m    \u001b[49m\u001b[43m(\u001b[49m\u001b[43mp_id\u001b[49m\u001b[43m,\u001b[49m\u001b[43m \u001b[49m\u001b[43mname\u001b[49m\u001b[43m,\u001b[49m\u001b[43m \u001b[49m\u001b[43mcompletedAt\u001b[49m\u001b[43m,\u001b[49m\u001b[43m \u001b[49m\u001b[43muserID\u001b[49m\u001b[43m,\u001b[49m\u001b[43m \u001b[49m\u001b[43mgrams\u001b[49m\u001b[43m)\u001b[49m\n\u001b[1;32m     13\u001b[0m \u001b[43m\u001b[49m\u001b[43m)\u001b[49m\n\u001b[1;32m     14\u001b[0m conn\u001b[38;5;241m.\u001b[39mcommit()\n",
      "\u001b[0;31mInvalidDatetimeFormat\u001b[0m: invalid input syntax for type timestamp with time zone: \"\"\nLINE 1: ...ompleted_at, user_id, grams) VALUES ('first', '', '', '', ''...\n                                                             ^\n"
     ]
    }
   ],
   "source": [
    "def import_protein_from_aws():\n",
    "    for item in p_items:\n",
    "        p_response = protein_table.scan()\n",
    "        p_items = p_response['Items']\n",
    "        p_id = item.get('id', '')\n",
    "        completedAt = item.get('completedAt', '')\n",
    "        userID = item.get('userID', '')\n",
    "        name = item.get('name', '')\n",
    "        grams = item.get('grams', '')\n",
    "        print(item)\n",
    "        # Insert item into PostgreSQL table\n",
    "        # Assuming the structure of DynamoDB items and PostgreSQL tables are compatible\n",
    "        cur.execute(\n",
    "            f\"INSERT INTO graphapi_protein (id, name, completed_at, user_id, grams) VALUES (%s, %s, %s, %s, %s)\",\n",
    "            (p_id, name, completedAt, userID, grams)\n",
    "        )\n",
    "        conn.commit()"
   ]
  },
  {
   "cell_type": "markdown",
   "id": "63f7927c",
   "metadata": {},
   "source": [
    "Putting items to AWS dynamodb database"
   ]
  },
  {
   "cell_type": "code",
   "execution_count": 52,
   "id": "6576c178",
   "metadata": {
    "collapsed": true
   },
   "outputs": [
    {
     "data": {
      "text/plain": [
       "{'ResponseMetadata': {'RequestId': 'GS4K41V8TRRD6JF65VMH70LGDJVV4KQNSO5AEMVJF66Q9ASUAAJG',\n",
       "  'HTTPStatusCode': 200,\n",
       "  'HTTPHeaders': {'server': 'Server',\n",
       "   'date': 'Fri, 23 Feb 2024 05:26:04 GMT',\n",
       "   'content-type': 'application/x-amz-json-1.0',\n",
       "   'content-length': '2',\n",
       "   'connection': 'keep-alive',\n",
       "   'x-amzn-requestid': 'GS4K41V8TRRD6JF65VMH70LGDJVV4KQNSO5AEMVJF66Q9ASUAAJG',\n",
       "   'x-amz-crc32': '2745614147'},\n",
       "  'RetryAttempts': 0}}"
      ]
     },
     "execution_count": 52,
     "metadata": {},
     "output_type": "execute_result"
    }
   ],
   "source": [
    "def import_sleep_from_aws():\n",
    "    s_response = sleep_table.scan()\n",
    "    s_items = s_response['Items']\n",
    "    for item in s_items:\n",
    "        s_id = item.get('id', '')\n",
    "        end_at = item.get('endAt', '')\n",
    "        userID = item.get('userID', '')\n",
    "        start_at = item.get('startAt', '')\n",
    "        print(item)\n",
    "        # Insert item into PostgreSQL table\n",
    "        # Assuming the structure of DynamoDB items and PostgreSQL tables are compatible\n",
    "        cur.execute(\n",
    "            f\"INSERT INTO graphapi_sleep (id, end_at, user_id, start_at) VALUES (%s, %s, %s, %s)\",\n",
    "            (s_id, end_at, userID, start_at)\n",
    "        )\n",
    "        conn.commit()"
   ]
  },
  {
   "cell_type": "code",
   "execution_count": null,
   "id": "54180c1b",
   "metadata": {},
   "outputs": [],
   "source": [
    "def put_user_item_aws(item):\n",
    "    user_table.put_item(\n",
    "        Item={\n",
    "            'id': item['id'],\n",
    "            'BMI': item['bmi'],\n",
    "        }\n",
    "    )\n",
    "\n",
    "def put_exercise_item_aws(item):\n",
    "    exercise_table.put_item(\n",
    "        Item={\n",
    "            'id': item['id'],\n",
    "            'name': item['name'],\n",
    "            'weight_lb': item['weight_lb'],\n",
    "            'reps': item['reps'],\n",
    "            'completedAt': item['completedAt'],\n",
    "            'target': item['target'],\n",
    "            'userID': item['userID'],\n",
    "        }\n",
    "    )\n",
    "\n",
    "def put_protein_item_aws(item):\n",
    "    protein_table.put_item(\n",
    "        Item={\n",
    "            'id': item['id'],\n",
    "            'name': item['name'],\n",
    "            'grams': item['grams'],\n",
    "            'completedAt': item['completedAt'],\n",
    "            'userID': item['userID'],\n",
    "        }\n",
    "    )\n",
    "\n",
    "def put_sleep_item_aws(item):\n",
    "    sleep_table.put_item(\n",
    "        Item={\n",
    "            'id': item['id'],\n",
    "            'endAt': item['endAt'],\n",
    "            'userID': item['userID'],\n",
    "            'startAt': item['startAt'],\n",
    "        }\n",
    "    )"
   ]
  },
  {
   "cell_type": "code",
   "execution_count": 12,
   "id": "583e87ca",
   "metadata": {},
   "outputs": [],
   "source": [
    "# # Insert 1000 sample data into tables\n",
    "# for i in range(1, 1001):\n",
    "#     # Generate random values with a normal distribution for BMI\n",
    "#     user_bmi = random.normal(22.7, 4.2)\n",
    "#     cur.execute(f\"INSERT INTO graphapi_user (id, bmi) VALUES (%s, %s)\", (i, user_bmi))\n",
    "    \n",
    "#     # Generate random values with a normal distribution for protein grams\n",
    "#     protein_grams = max(0, random.normal(65, 7))\n",
    "#     cur.execute(f\"INSERT INTO graphapi_protein (id, user_id, name, grams, completed_at) VALUES (%s, %s, %s, %s, %s)\",\n",
    "#               (i, i, f\"Protein {i}\", protein_grams, datetime.now() - timedelta(days=i)))\n",
    "    \n",
    "#     # Generate random values with a normal distribution for exercise weight and reps\n",
    "#     weight_lb = max(0, round(random.normal(50, 10)))\n",
    "#     reps = max(1, round(random.normal(10, 2)))\n",
    "#     cur.execute(f\"INSERT INTO graphapi_exercise (id, user_id, name, weight_lb, reps, target, completed_at) VALUES (%s, %s, %s, %s, %s, %s, %s)\",\n",
    "#               (i, i, f\"Exercise {i}\", weight_lb, reps, \"Muscle\", datetime.now() - timedelta(days=i)))\n",
    "    \n",
    "#     # Generate random start and end times for sleep, differing by one day\n",
    "#     start_time = datetime.now() - timedelta(days=i, hours=random.randint(4, 10))\n",
    "#     end_time = start_time + timedelta(hours=random.randint(4, 10))\n",
    "#     cur.execute(f\"INSERT INTO graphapi_sleep (id, user_id, start_at, end_at) VALUES (%s, %s, %s, %s)\",\n",
    "#               (i, i, start_time, end_time))\n",
    "\n",
    "# # Commit changes\n",
    "# conn.commit()"
   ]
  },
  {
   "cell_type": "code",
   "execution_count": null,
   "id": "612163c4",
   "metadata": {},
   "outputs": [],
   "source": []
  }
 ],
 "metadata": {
  "kernelspec": {
   "display_name": "bulkupcoach",
   "language": "python",
   "name": "python3"
  },
  "language_info": {
   "codemirror_mode": {
    "name": "ipython",
    "version": 3
   },
   "file_extension": ".py",
   "mimetype": "text/x-python",
   "name": "python",
   "nbconvert_exporter": "python",
   "pygments_lexer": "ipython3",
   "version": "3.10.9"
  }
 },
 "nbformat": 4,
 "nbformat_minor": 5
}
