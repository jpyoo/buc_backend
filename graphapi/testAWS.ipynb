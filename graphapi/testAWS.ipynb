{
 "cells": [
  {
   "cell_type": "markdown",
   "id": "666d1715",
   "metadata": {},
   "source": [
    "# Bulk Up Coach Backend Configuration\n",
    "This Jupyter notebook will demonstrate the backend configuration of Bulk Up Coach's backend server and database configurations and their rationals. Each steps are sorted in the order of progress.\n",
    "Configuring, Defining, Creating, and Updating features of the backend can be found in this document."
   ]
  },
  {
   "cell_type": "markdown",
   "id": "412fb17b",
   "metadata": {},
   "source": [
    "## Step 1: Configure the environment\n",
    "To configure the environment, we need to create a new virtual environment that will function as our backend server.\n",
    "Once the backend server and its database is constructed, we need to test connecting with our application's Amplify cloud server.\n",
    "This step will connect the Amplify server and test data transactions between the backend and the front end server."
   ]
  },
  {
   "cell_type": "markdown",
   "id": "37b04908",
   "metadata": {},
   "source": [
    "### 1.a AWS dynamo db connection\n",
    "After investigating the AWS SDK for python, I found that the boto3 library is the most popular and well documented.\n",
    "Tracking down the data storation system of Amplify, we could notice that dynamodb was used and its endpoint could be found in AWS console."
   ]
  },
  {
   "cell_type": "code",
   "execution_count": 1,
   "id": "c263bf95",
   "metadata": {},
   "outputs": [],
   "source": [
    "import decimal\n",
    "import json\n",
    "import logging\n",
    "import os\n",
    "import pprint\n",
    "import time\n",
    "import boto3\n",
    "from botocore.exceptions import ClientError\n",
    "from boto3.dynamodb.conditions import Key, Attr\n",
    "import psycopg2\n",
    "from datetime import datetime, timedelta\n",
    "from numpy import random\n",
    "\n",
    "logger = logging.getLogger(__name__)\n",
    "\n",
    "MAX_GET_SIZE = 100  # Amazon DynamoDB rejects a get batch larger than 100 items.\n",
    "\n",
    "aws_acct = 'zirl2v2iw5h7tnbs3wznskuvvm-bulkupcoac'\n",
    "USER_TABLE_NAME = 'User-' + aws_acct\n",
    "EXERCISE_TABLE_NAME = \"Exercise-\" + aws_acct\n",
    "PROTEIN_TABLE_NAME = \"Protein-\" + aws_acct\n",
    "SLEEP_TABLE_NAME = \"Sleep-\" + aws_acct\n",
    "\n",
    "# Creating the DynamoDB Client\n",
    "dynamodb_client = boto3.client('dynamodb', region_name=\"us-west-1\")\n",
    "\n",
    "# Creating the DynamoDB Table Resource\n",
    "dynamodb = boto3.resource('dynamodb', region_name=\"us-west-1\")\n",
    "\n",
    "user_table = dynamodb.Table(USER_TABLE_NAME)\n",
    "exercise_table = dynamodb.Table(EXERCISE_TABLE_NAME)\n",
    "protein_table = dynamodb.Table(PROTEIN_TABLE_NAME)\n",
    "sleep_table = dynamodb.Table(SLEEP_TABLE_NAME)"
   ]
  },
  {
   "cell_type": "markdown",
   "id": "e0c2c4da",
   "metadata": {},
   "source": [
    "### 1.b Connecting to backend database\n",
    "After creating and configuring the backend database separately, we connect the database to allow syncronous data transactions."
   ]
  },
  {
   "cell_type": "code",
   "execution_count": 2,
   "id": "fb04a84f",
   "metadata": {},
   "outputs": [],
   "source": [
    "# Connect to PostgreSQL\n",
    "conn = psycopg2.connect(\n",
    "    dbname=\"bulkupcoach\",\n",
    "    user=\"bulkupcoach\",\n",
    "    password=\"password\",\n",
    "    host=\"localhost\",\n",
    "    port = '5432',\n",
    ")\n",
    "\n",
    "# Create a cursor\n",
    "cur = conn.cursor()"
   ]
  },
  {
   "cell_type": "markdown",
   "id": "2338f06e",
   "metadata": {},
   "source": [
    "### 1.c Testing data transfer\n",
    "After connecting the two desired databases, we tested if data could be retrieve, inserted, and updated on both ends.\n",
    "\n",
    "#### Getting items from AWS by user ID"
   ]
  },
  {
   "cell_type": "code",
   "execution_count": 3,
   "id": "b24438a0",
   "metadata": {},
   "outputs": [],
   "source": [
    "def get_items_by_user(table, user_id):\n",
    "    \"\"\"Get items in a table by user ID.\n",
    "\n",
    "    :param table: The table to query.\n",
    "    :param user_id: The user ID to search for.\n",
    "    :return: The items found.\n",
    "    \"\"\"\n",
    "    try:\n",
    "        response = table.query(\n",
    "            KeyConditionExpression=Key('userID').eq(user_id)\n",
    "        )\n",
    "    except ClientError as e:\n",
    "        logger.exception(\"Couldn't get items by user ID.\")\n",
    "        raise\n",
    "    return response['Items']"
   ]
  },
  {
   "cell_type": "markdown",
   "id": "7e75b291",
   "metadata": {},
   "source": [
    "#### Getting All items from Users Table into Postgres DB"
   ]
  },
  {
   "cell_type": "code",
   "execution_count": 4,
   "id": "55efd92c",
   "metadata": {},
   "outputs": [
    {
     "name": "stdout",
     "output_type": "stream",
     "text": [
      "[{'id': 'user4', 'BMI': Decimal('19')}, {'id': 'user5', 'BMI': Decimal('24')}, {'id': 'user2', 'BMI': Decimal('20')}, {'id': 'user', 'BMI': Decimal('21')}, {'id': 'user6', 'BMI': Decimal('18.5')}, {'id': 'user3', 'BMI': Decimal('21.5')}]\n"
     ]
    }
   ],
   "source": [
    "def print_all_items(table):\n",
    "    \"\"\"Print all items in a table.\n",
    "\n",
    "    :param table: The table to print.\n",
    "    \"\"\"\n",
    "    try:\n",
    "        response = table.scan()\n",
    "        items = response['Items']\n",
    "        for item in items:\n",
    "            print(item)\n",
    "    except ClientError as e:\n",
    "        logger.exception(\"Couldn't get items by user ID.\")\n",
    "        raise"
   ]
  },
  {
   "cell_type": "markdown",
   "id": "7067b6df",
   "metadata": {},
   "source": [
    "#### Printing attribute names to confirm seamless data transfer"
   ]
  },
  {
   "cell_type": "code",
   "execution_count": null,
   "id": "910b9fa1",
   "metadata": {},
   "outputs": [],
   "source": [
    "def print_attribute_names(items):\n",
    "    attribute_names = set()  # Using a set to ensure uniqueness\n",
    "\n",
    "    for item in items:\n",
    "        # Extract keys (attribute names) from the item\n",
    "        for key in item.keys():\n",
    "            attribute_names.add(key)\n",
    "\n",
    "    # Print the attribute names\n",
    "    print(\"Attribute Names:\")\n",
    "    for attribute_name in attribute_names:\n",
    "        print(attribute_name)"
   ]
  },
  {
   "cell_type": "markdown",
   "id": "8e3c880e",
   "metadata": {},
   "source": [
    "#### Get all users from AWS database, and insert them into Local DB"
   ]
  },
  {
   "cell_type": "code",
   "execution_count": 39,
   "id": "b3fbd4b6",
   "metadata": {
    "scrolled": true
   },
   "outputs": [
    {
     "name": "stdout",
     "output_type": "stream",
     "text": [
      "user4 {'N': '19'} <class 'dict'>\n",
      "user5 {'N': '24'} <class 'dict'>\n",
      "user2 {'N': '20'} <class 'dict'>\n",
      "user {'N': '21'} <class 'dict'>\n",
      "user6 {'N': '18.5'} <class 'dict'>\n",
      "user3 {'N': '21.5'} <class 'dict'>\n"
     ]
    }
   ],
   "source": [
    "# Fetch data from DynamoDB and insert into PostgreSQL tables\n",
    "def import_user_from_aws():\n",
    "    response = user_table.scan()\n",
    "    items = response['Items']\n",
    "    for item in items:\n",
    "        user_id = item.get('id', '')  # Assuming 'id' is the primary key in DynamoDB\n",
    "        bmi = item.get('BMI', '')  # Assuming 'BMI' is an attribute in DynamoDB\n",
    "        # Insert item into PostgreSQL table\n",
    "        # Assuming the structure of DynamoDB items and PostgreSQL tables are compatible\n",
    "        cur.execute(\n",
    "            f\"INSERT INTO graphapi_user (id, bmi) VALUES (%s, %s)\",\n",
    "            (user_id['S'], float(bmi['N']))\n",
    "        )\n",
    "        conn.commit()"
   ]
  },
  {
   "cell_type": "markdown",
   "id": "10cb6a5b",
   "metadata": {},
   "source": [
    "#### Get all exercises from AWS database, and insert them into Local DB"
   ]
  },
  {
   "cell_type": "code",
   "execution_count": 60,
   "id": "0bfdb197",
   "metadata": {},
   "outputs": [
    {
     "name": "stdout",
     "output_type": "stream",
     "text": [
      "{'completedAt': '02/22/2024, 21:26:04', 'reps': Decimal('20'), 'userID': 'user4', 'target': 'back', 'weight_lb': Decimal('25'), 'id': 'ex4', 'name': 'latpulldown'}\n",
      "{'completedAt': '02/22/2024, 21:25:43', 'reps': Decimal('10'), 'userID': 'user1', 'target': 'back', 'weight_lb': Decimal('35'), 'id': 'ex1', 'name': 'latpulldown'}\n",
      "{'completedAt': '02/22/2024, 21:25:36', 'reps': Decimal('15'), 'userID': 'user1', 'target': 'back', 'weight_lb': Decimal('35'), 'id': 'ex3', 'name': 'latpulldown'}\n",
      "{'completedAt': '02/22/2024, 21:25:50', 'reps': Decimal('10'), 'userID': 'user1', 'target': 'back', 'weight_lb': Decimal('25'), 'id': 'ex2', 'name': 'latpulldown'}\n"
     ]
    }
   ],
   "source": [
    "def import_exercise_from_aws():\n",
    "    e_response = exercise_table.scan()\n",
    "    e_items = e_response['Items']\n",
    "    for item in e_items:\n",
    "        e_id = item.get('id', '')\n",
    "        completedAt = item.get('completedAt', '')\n",
    "        reps = item.get('reps', '')\n",
    "        userID = item.get('userID', '')\n",
    "        target = item.get('target', '')\n",
    "        weight_lb = item.get('weight_lb', '')\n",
    "        name = item.get('name', '')\n",
    "        print(item)\n",
    "        # Insert item into PostgreSQL table\n",
    "        # Assuming the structure of DynamoDB items and PostgreSQL tables are compatible\n",
    "        cur.execute(\n",
    "            f\"INSERT INTO graphapi_exercise (id, name, completed_at, target, user_id, weight_lb, reps) VALUES (%s, %s, %s, %s, %s, %s, %s)\",\n",
    "            (e_id, name, completedAt, target, userID, weight_lb, reps)\n",
    "        )\n",
    "        conn.commit()"
   ]
  },
  {
   "cell_type": "markdown",
   "id": "4c58f8a2",
   "metadata": {},
   "source": [
    "Workgin on Protein table"
   ]
  },
  {
   "cell_type": "code",
   "execution_count": 69,
   "id": "ee84cd9f",
   "metadata": {},
   "outputs": [
    {
     "name": "stdout",
     "output_type": "stream",
     "text": [
      "[{'completedAt': '02/22/2024, 21:37:35', 'id': 'pr5', 'name': 'shake', 'grams': Decimal('10'), 'userID': 'user4'}, {'completedAt': '02/22/2024, 21:37:17', 'id': 'pr4', 'name': 'burger', 'grams': Decimal('25'), 'userID': 'user4'}]\n"
     ]
    }
   ],
   "source": [
    "p_response = protein_table.scan()\n",
    "p_items = p_response['Items']\n",
    "print(p_items)"
   ]
  },
  {
   "cell_type": "markdown",
   "id": "5f433ade",
   "metadata": {},
   "source": [
    "#### Get all Proteins from AWS database, and insert them into Local DB"
   ]
  },
  {
   "cell_type": "code",
   "execution_count": 67,
   "id": "188a4ad3",
   "metadata": {},
   "outputs": [
    {
     "name": "stdout",
     "output_type": "stream",
     "text": [
      "{'completedAt': '02/22/2024, 21:37:35', 'id': 'pr5', 'name': 'shake', 'grams': Decimal('10'), 'userID': 'user4'}\n",
      "{'completedAt': '02/22/2024, 21:37:17', 'id': 'pr4', 'name': 'burger', 'grams': Decimal('25'), 'userID': 'user4'}\n",
      "{'id': 'first'}\n"
     ]
    },
    {
     "ename": "InvalidDatetimeFormat",
     "evalue": "invalid input syntax for type timestamp with time zone: \"\"\nLINE 1: ...ompleted_at, user_id, grams) VALUES ('first', '', '', '', ''...\n                                                             ^\n",
     "output_type": "error",
     "traceback": [
      "\u001b[0;31m---------------------------------------------------------------------------\u001b[0m",
      "\u001b[0;31mInvalidDatetimeFormat\u001b[0m                     Traceback (most recent call last)",
      "Cell \u001b[0;32mIn[67], line 10\u001b[0m\n\u001b[1;32m      7\u001b[0m \u001b[38;5;28mprint\u001b[39m(item)\n\u001b[1;32m      8\u001b[0m \u001b[38;5;66;03m# Insert item into PostgreSQL table\u001b[39;00m\n\u001b[1;32m      9\u001b[0m \u001b[38;5;66;03m# Assuming the structure of DynamoDB items and PostgreSQL tables are compatible\u001b[39;00m\n\u001b[0;32m---> 10\u001b[0m \u001b[43mcur\u001b[49m\u001b[38;5;241;43m.\u001b[39;49m\u001b[43mexecute\u001b[49m\u001b[43m(\u001b[49m\n\u001b[1;32m     11\u001b[0m \u001b[43m    \u001b[49m\u001b[38;5;124;43mf\u001b[39;49m\u001b[38;5;124;43m\"\u001b[39;49m\u001b[38;5;124;43mINSERT INTO graphapi_protein (id, name, completed_at, user_id, grams) VALUES (%s, %s, %s, %s, %s)\u001b[39;49m\u001b[38;5;124;43m\"\u001b[39;49m\u001b[43m,\u001b[49m\n\u001b[1;32m     12\u001b[0m \u001b[43m    \u001b[49m\u001b[43m(\u001b[49m\u001b[43mp_id\u001b[49m\u001b[43m,\u001b[49m\u001b[43m \u001b[49m\u001b[43mname\u001b[49m\u001b[43m,\u001b[49m\u001b[43m \u001b[49m\u001b[43mcompletedAt\u001b[49m\u001b[43m,\u001b[49m\u001b[43m \u001b[49m\u001b[43muserID\u001b[49m\u001b[43m,\u001b[49m\u001b[43m \u001b[49m\u001b[43mgrams\u001b[49m\u001b[43m)\u001b[49m\n\u001b[1;32m     13\u001b[0m \u001b[43m\u001b[49m\u001b[43m)\u001b[49m\n\u001b[1;32m     14\u001b[0m conn\u001b[38;5;241m.\u001b[39mcommit()\n",
      "\u001b[0;31mInvalidDatetimeFormat\u001b[0m: invalid input syntax for type timestamp with time zone: \"\"\nLINE 1: ...ompleted_at, user_id, grams) VALUES ('first', '', '', '', ''...\n                                                             ^\n"
     ]
    }
   ],
   "source": [
    "def import_protein_from_aws():\n",
    "    for item in p_items:\n",
    "        p_response = protein_table.scan()\n",
    "        p_items = p_response['Items']\n",
    "        p_id = item.get('id', '')\n",
    "        completedAt = item.get('completedAt', '')\n",
    "        userID = item.get('userID', '')\n",
    "        name = item.get('name', '')\n",
    "        grams = item.get('grams', '')\n",
    "        print(item)\n",
    "        # Insert item into PostgreSQL table\n",
    "        # Assuming the structure of DynamoDB items and PostgreSQL tables are compatible\n",
    "        cur.execute(\n",
    "            f\"INSERT INTO graphapi_protein (id, name, completed_at, user_id, grams) VALUES (%s, %s, %s, %s, %s)\",\n",
    "            (p_id, name, completedAt, userID, grams)\n",
    "        )\n",
    "        conn.commit()"
   ]
  },
  {
   "cell_type": "markdown",
   "id": "63f7927c",
   "metadata": {},
   "source": [
    "Putting items to AWS dynamodb database"
   ]
  },
  {
   "cell_type": "code",
   "execution_count": 52,
   "id": "6576c178",
   "metadata": {
    "collapsed": true
   },
   "outputs": [
    {
     "data": {
      "text/plain": [
       "{'ResponseMetadata': {'RequestId': 'GS4K41V8TRRD6JF65VMH70LGDJVV4KQNSO5AEMVJF66Q9ASUAAJG',\n",
       "  'HTTPStatusCode': 200,\n",
       "  'HTTPHeaders': {'server': 'Server',\n",
       "   'date': 'Fri, 23 Feb 2024 05:26:04 GMT',\n",
       "   'content-type': 'application/x-amz-json-1.0',\n",
       "   'content-length': '2',\n",
       "   'connection': 'keep-alive',\n",
       "   'x-amzn-requestid': 'GS4K41V8TRRD6JF65VMH70LGDJVV4KQNSO5AEMVJF66Q9ASUAAJG',\n",
       "   'x-amz-crc32': '2745614147'},\n",
       "  'RetryAttempts': 0}}"
      ]
     },
     "execution_count": 52,
     "metadata": {},
     "output_type": "execute_result"
    }
   ],
   "source": [
    "def import_sleep_from_aws():\n",
    "    s_response = sleep_table.scan()\n",
    "    s_items = s_response['Items']\n",
    "    for item in s_items:\n",
    "        s_id = item.get('id', '')\n",
    "        end_at = item.get('endAt', '')\n",
    "        userID = item.get('userID', '')\n",
    "        start_at = item.get('startAt', '')\n",
    "        print(item)\n",
    "        # Insert item into PostgreSQL table\n",
    "        # Assuming the structure of DynamoDB items and PostgreSQL tables are compatible\n",
    "        cur.execute(\n",
    "            f\"INSERT INTO graphapi_sleep (id, end_at, user_id, start_at) VALUES (%s, %s, %s, %s)\",\n",
    "            (s_id, end_at, userID, start_at)\n",
    "        )\n",
    "        conn.commit()"
   ]
  },
  {
   "cell_type": "code",
   "execution_count": null,
   "id": "54180c1b",
   "metadata": {},
   "outputs": [],
   "source": [
    "def put_user_item_aws(item):\n",
    "    user_table.put_item(\n",
    "        Item={\n",
    "            'id': item['id'],\n",
    "            'BMI': item['bmi'],\n",
    "        }\n",
    "    )\n",
    "\n",
    "def put_exercise_item_aws(item):\n",
    "    exercise_table.put_item(\n",
    "        Item={\n",
    "            'id': item['id'],\n",
    "            'name': item['name'],\n",
    "            'weight_lb': item['weight_lb'],\n",
    "            'reps': item['reps'],\n",
    "            'completedAt': item['completedAt'],\n",
    "            'target': item['target'],\n",
    "            'userID': item['userID'],\n",
    "        }\n",
    "    )\n",
    "\n",
    "def put_protein_item_aws(item):\n",
    "    protein_table.put_item(\n",
    "        Item={\n",
    "            'id': item['id'],\n",
    "            'name': item['name'],\n",
    "            'grams': item['grams'],\n",
    "            'completedAt': item['completedAt'],\n",
    "            'userID': item['userID'],\n",
    "        }\n",
    "    )\n",
    "\n",
    "def put_sleep_item_aws(item):\n",
    "    sleep_table.put_item(\n",
    "        Item={\n",
    "            'id': item['id'],\n",
    "            'endAt': item['endAt'],\n",
    "            'userID': item['userID'],\n",
    "            'startAt': item['startAt'],\n",
    "        }\n",
    "    )"
   ]
  },
  {
   "cell_type": "markdown",
   "id": "fad8b256",
   "metadata": {},
   "source": [
    "## Step 3: Creating Sample data\n",
    "We have inserted "
   ]
  },
  {
   "cell_type": "code",
   "execution_count": 12,
   "id": "583e87ca",
   "metadata": {},
   "outputs": [],
   "source": [
    "# # Insert 1000 sample data into tables\n",
    "# for i in range(1, 1001):\n",
    "#     # Generate random values with a normal distribution for BMI\n",
    "#     user_bmi = random.normal(22.7, 4.2)\n",
    "#     cur.execute(f\"INSERT INTO graphapi_user (id, bmi) VALUES (%s, %s)\", (i, user_bmi))\n",
    "    \n",
    "#     # Generate random values with a normal distribution for protein grams\n",
    "#     protein_grams = max(0, random.normal(65, 7))\n",
    "#     cur.execute(f\"INSERT INTO graphapi_protein (id, user_id, name, grams, completed_at) VALUES (%s, %s, %s, %s, %s)\",\n",
    "#               (i, i, f\"Protein {i}\", protein_grams, datetime.now() - timedelta(days=i)))\n",
    "    \n",
    "#     # Generate random values with a normal distribution for exercise weight and reps\n",
    "#     weight_lb = max(0, round(random.normal(50, 10)))\n",
    "#     reps = max(1, round(random.normal(10, 2)))\n",
    "#     cur.execute(f\"INSERT INTO graphapi_exercise (id, user_id, name, weight_lb, reps, target, completed_at) VALUES (%s, %s, %s, %s, %s, %s, %s)\",\n",
    "#               (i, i, f\"Exercise {i}\", weight_lb, reps, \"Muscle\", datetime.now() - timedelta(days=i)))\n",
    "    \n",
    "#     # Generate random start and end times for sleep, differing by one day\n",
    "#     start_time = datetime.now() - timedelta(days=i, hours=random.randint(4, 10))\n",
    "#     end_time = start_time + timedelta(hours=random.randint(4, 10))\n",
    "#     cur.execute(f\"INSERT INTO graphapi_sleep (id, user_id, start_at, end_at) VALUES (%s, %s, %s, %s)\",\n",
    "#               (i, i, start_time, end_time))\n",
    "\n",
    "# # Commit changes\n",
    "# conn.commit()"
   ]
  },
  {
   "cell_type": "code",
   "execution_count": 4,
   "id": "e2762d7a",
   "metadata": {},
   "outputs": [],
   "source": [
    "# Insert 100 sample for a user data into tables\n",
    "TARGET_MUSCLE = [\"Chest\", \"Back\", \"Legs\", \"Shoulders\", \"Arms\"]\n",
    "for i in range(1, 101):\n",
    "    random_muscle = random.choice(TARGET_MUSCLE)\n",
    "    \n",
    "    # Generate random values with a normal distribution for exercise weight and reps\n",
    "    weight_lb = max(0, round(random.normal(50, 10)))\n",
    "    reps = max(1, round(random.normal(10, 2)))\n",
    "    cur.execute(f\"INSERT INTO graphapi_exercise (id, user_id, name, weight_lb, reps, target, completed_at) VALUES (%s, %s, %s, %s, %s, %s, %s)\",\n",
    "              (i+1200, 1, f\"Exercise {i}\", weight_lb, reps, random_muscle, datetime.now() - timedelta(days=i)))\n",
    "    \n",
    "# Commit changes\n",
    "conn.commit()"
   ]
  },
  {
   "cell_type": "markdown",
   "id": "35c51e31",
   "metadata": {},
   "source": [
    "## Step 4. Making Predictions\n",
    "\n",
    "Using softmax, standard normal distribution, and Gaussian Naive Beyes algorithm, our machine learning models predict users' life habits and results.\n",
    "\n",
    "If a result is off 2 sigma, they are considered harmful.\n",
    "\n",
    "In other cases, the results produce a single scalar value."
   ]
  },
  {
   "cell_type": "markdown",
   "id": "e8ea2115",
   "metadata": {},
   "source": [
    "### 4.1 Softmax Function\n",
    "Given a vector of \\( n \\) real-valued scores \\( z = (z_1, z_2, ..., z_n) \\), the softmax function computes the probability distribution over \\( n \\) different classes.\n",
    "\n",
    "The softmax function is defined as follows:\n",
    "\n",
    "$\\text{softmax}(z_i) = \\frac{e^{z_i}}{\\sum_{j=1}^{n} e^{z_j}} \\quad \\text{for} \\quad i = 1, 2, ..., n$\n",
    "where \\( e \\) is the base of the natural logarithm (Euler's number).\n",
    "\n",
    "#### Properties\n",
    "- The softmax function outputs a probability distribution, where each output is in the range \\( [0, 1] \\) and the sum of all outputs equals \\( 1 \\).\n",
    "- The softmax function is differentiable, which makes it suitable for use in gradient-based optimization algorithms like stochastic gradient descent.\n"
   ]
  },
  {
   "cell_type": "markdown",
   "id": "2a00210b",
   "metadata": {},
   "source": [
    "### 4.2 Gaussian Naive Bayes Algorithm\n",
    "\n",
    "#### Introduction\n",
    "Gaussian Naive Bayes (GNB) is a simple probabilistic classifier based on applying Bayes' theorem with the assumption of independence between features. It is particularly useful when dealing with continuous data, where the assumption of normal distribution (Gaussian distribution) for each feature is reasonable.\n",
    "\n",
    "#### Algorithm Overview\n",
    "Given a dataset with \\( n \\) features and \\( m \\) classes, the GNB algorithm involves the following steps:\n",
    "\n",
    "1. **Data Preprocessing**: Calculate the mean and standard deviation of each feature for each class in the training dataset.\n",
    "2. **Training**: Compute the prior probabilities of each class and the likelihoods of each feature given each class.\n",
    "3. **Prediction**: For a new data point, calculate the posterior probability of each class using Bayes' theorem and select the class with the highest probability as the predicted class.\n",
    "\n",
    "#### Assumptions\n",
    "- **Independence**: GNB assumes that the features are conditionally independent given the class label.\n",
    "- **Normal Distribution**: GNB assumes that the likelihood of the features given the class label follows a Gaussian (normal) distribution.\n",
    "\n",
    "#### Mathematical Formulation\n",
    "The probability density function (PDF) of the Gaussian distribution is given by:\n",
    "\n",
    "$f(x | \\mu, \\sigma^2) = \\frac{1}{\\sqrt{2\\pi\\sigma^2}} \\exp\\left(-\\frac{(x - \\mu)^2}{2\\sigma^2}\\right)$\n",
    "\n",
    "where x is the feature value, $\\mu$ is the mean of the feature, and $\\sigma^2$ is the variance of the feature.\n"
   ]
  },
  {
   "cell_type": "markdown",
   "id": "2c5eddaf",
   "metadata": {},
   "source": [
    "### 4.3 Normal distribution heuristics\n",
    "Since the actual user data can't be used with the initiative machine learning training process, we proceeded with a simple heuristic of rewarding activities within 1 sigma from the mean behavior.\n",
    "As we can see from the plot below, values further than 1 sigma accounts for about 32% of data, which are off from normal behaviors.\n",
    "Since excessive workout or nutrient intake are not recommended, our models' final scalar value will punish behaviors that are off from the mean.\n",
    "\n",
    "#### Potential progress\n",
    "As users input their actual data while using the application, we will be able to obtain real data and predicted updates.\n",
    "When we have enough data to train machine learning models with actual target labels, we can enhance accuracy of our models using the real user data instead of this heuristic."
   ]
  },
  {
   "cell_type": "code",
   "execution_count": 4,
   "id": "ebbb314e",
   "metadata": {},
   "outputs": [
    {
     "data": {
      "image/png": "[encoded data removed]",
      "text/plain": [
       "<Figure size 640x480 with 1 Axes>"
      ]
     },
     "metadata": {},
     "output_type": "display_data"
    }
   ],
   "source": [
    "import numpy as np\n",
    "import matplotlib.pyplot as plt\n",
    "from scipy.stats import norm\n",
    "\n",
    "# Generate data points for the normal distribution\n",
    "x = np.linspace(-5, 5, 1000)\n",
    "y = norm.pdf(x, 0, 1)  # Mean=0, Standard Deviation=1\n",
    "\n",
    "# Plot the normal distribution\n",
    "plt.plot(x, y, 'k-', linewidth=2, label='Normal Distribution')\n",
    "\n",
    "# Find the area within 1 standard deviation\n",
    "x_fill = np.linspace(-1, 1, 1000)\n",
    "y_fill = norm.pdf(x_fill, 0, 1)\n",
    "plt.fill_between(x_fill, y_fill, color='lightblue', alpha=0.5, label='Within 1 $\\sigma$')\n",
    "\n",
    "# Set labels and title\n",
    "plt.xlabel('X')\n",
    "plt.ylabel('Probability Density')\n",
    "plt.title('Normal Distribution with Area within 1 $\\sigma$')\n",
    "plt.legend()\n",
    "\n",
    "# Display the plot\n",
    "plt.grid(True)\n",
    "plt.show()"
   ]
  },
  {
   "cell_type": "code",
   "execution_count": null,
   "id": "5aa7d203",
   "metadata": {},
   "outputs": [],
   "source": []
  }
 ],
 "metadata": {
  "kernelspec": {
   "display_name": "bulkupcoach",
   "language": "python",
   "name": "python3"
  },
  "language_info": {
   "codemirror_mode": {
    "name": "ipython",
    "version": 3
   },
   "file_extension": ".py",
   "mimetype": "text/x-python",
   "name": "python",
   "nbconvert_exporter": "python",
   "pygments_lexer": "ipython3",
   "version": "3.10.9"
  }
 },
 "nbformat": 4,
 "nbformat_minor": 5
}
